{
 "cells": [
  {
   "cell_type": "markdown",
   "metadata": {},
   "source": [
    "# VLNS Executables:"
   ]
  },
  {
   "cell_type": "markdown",
   "metadata": {},
   "source": [
    "   ### Output interpretation\n",
    "   \n",
    "#### label_description = \n",
    "       [\"cost\",\"time\",\"empty\",\"dist\",\"rest\",\"shift\",\"break\",\"sleep\",\"wait\",\"backshift\",\"forwardshift\"]\n",
    "#### possible values:\n",
    "       (-1:inf, 0:8640, 0,1,  0:inf,  0:540, 0:780,  0:270,   0,1,  0:8640,   0:8640,     0:8640    )\n",
    "       (A shift back in time = earlier, forward shift = later, one rest = 660min)\n",
    "       \n",
    "    A tour is a squence of locations one driver visits,\n",
    "    A 'job' (a,b,c) assigned to a driver means a drive from a to b, \n",
    "    c being the request number. \n",
    "    c = 'None' if it is a drive in between requests.\n",
    "    \n",
    "#### How a tour looks when we only show the requests\n",
    "    [(2, 3, 1), (8, 9, 4)]\n",
    "    \n",
    "#### How the same tour looks with all labels: (20 = depot location)\n",
    "    [ (20, 20, 10),        [0, 0, 0, 0, 0, 0, 0, 1, 0, 8640, 8640], \n",
    "      (20, 2, None), array([ 0, 3390, 0, 0, 0, 90, 0, 1, 0, 0, 3345]), \n",
    "      (2, 3, 1),     array([ 604, 4035, 1, 0, 495, 720, 0, 0, 0, 0, 0]),\n",
    "      (3, 8, None),  array([1445, 5012, 0, 0, 182, 272, 0, 1, 0, 0, 73]), \n",
    "      (8, 9, 4),     array([1689, 5325, 1, 0, 392, 572, 0, 0, 0, 0, 0])  ]\n",
    "    \n",
    "#### How a routing looks like (all tours shown):\n",
    "    [(0, 1, 0)]\n",
    "    [(6, 7, 3)]  \n",
    "    [(2, 3, 1), (8, 9, 4)]\n",
    "    [(12, 13, 6)]\n",
    "    [(14, 15, 7)]\n",
    "    [(16, 17, 8), (10, 11, 5)]\n",
    "    [(18, 19, 9), (4, 5, 2)]\n"
   ]
  },
  {
   "cell_type": "code",
   "execution_count": 1,
   "metadata": {},
   "outputs": [
    {
     "name": "stdout",
     "output_type": "stream",
     "text": [
      "importing Jupyter notebook from Helping_functions.ipynb\n"
     ]
    }
   ],
   "source": [
    "'''\n",
    "    Importing all needed functions:\n",
    "'''\n",
    "import import_ipynb\n",
    "from Helping_functions import * ## Helping_functions.ipynb has to be in the same folder as this Notebook\n",
    "                                ## The Data Sheet and the polygon 'intersection.shp' as well"
   ]
  },
  {
   "cell_type": "markdown",
   "metadata": {},
   "source": [
    "### Executables:\n",
    "#### data_read(Sheetname, visualization = 0, printing = 1):\n",
    "Reads the specified datasheet from the file 'Test.xlxs' \n",
    "The other two parameters can be set 1 for route visualization and printing the requests."
   ]
  },
  {
   "cell_type": "code",
   "execution_count": 2,
   "metadata": {},
   "outputs": [
    {
     "name": "stdout",
     "output_type": "stream",
     "text": [
      "\u001b[1m \n",
      " Requests only: \u001b[0m\n",
      "[(0, 1, 0)]\n",
      "[(2, 3, 1)]\n",
      "[(4, 5, 2)]\n",
      "[(6, 7, 3)]\n",
      "[(8, 9, 4)]\n",
      "[(10, 11, 5)]\n",
      "[(12, 13, 6)]\n",
      "[(14, 15, 7)]\n",
      "[(16, 17, 8)]\n",
      "[(18, 19, 9)]\n"
     ]
    },
    {
     "data": {
      "image/png": "[encoded data removed]",
      "text/plain": [
       "<Figure size 432x288 with 1 Axes>"
      ]
     },
     "metadata": {
      "needs_background": "light"
     },
     "output_type": "display_data"
    },
    {
     "name": "stdout",
     "output_type": "stream",
     "text": [
      "initial solutions costs: 26895\n"
     ]
    }
   ],
   "source": [
    "(n, requests, lats, lons, pick_start, pick_end, delivery_start, delivery_end, coordinates,\n",
    "           time_windows, initial_routes, valid_requests) = data_read('Data_N_10',1,1,r'Test.xlsx')\n",
    "old_costs = 0\n",
    "fixcosts = 2000\n",
    "for s in initial_routes:\n",
    "    old_costs += s[-1][0] + fixcosts\n",
    "print('initial solutions costs:', old_costs)"
   ]
  },
  {
   "cell_type": "markdown",
   "metadata": {},
   "source": [
    "#### VLNS_IG(initial_sol, cost_output = 0, move_mode = 0, fixcosts = 2000, max_iter = 100000000):\n",
    "Executes an Large Neighborhood Search (implicit) with improvement graph for neighborhood navigation\n",
    "Different Operators can be chosen with the mode argument."
   ]
  },
  {
   "cell_type": "code",
   "execution_count": 3,
   "metadata": {},
   "outputs": [
    {
     "name": "stdout",
     "output_type": "stream",
     "text": [
      "\u001b[1m \n",
      " Requests only: \u001b[0m\n",
      "[(0, 1, 0)]\n",
      "[(4, 5, 2)]\n",
      "[(2, 3, 1), (6, 7, 3)]\n",
      "[(8, 9, 4)]\n",
      "[(10, 11, 5), (12, 13, 6)]\n",
      "[(14, 15, 7)]\n",
      "[(16, 17, 8)]\n",
      "[(18, 19, 9)]\n",
      "break crit.: local min\n",
      "improvement: 1203\n"
     ]
    }
   ],
   "source": [
    "solution, path, cost_change, cost_comparison, improvement, break_crit,\\\n",
    "        new_costs = VLNS_IG(initial_routes)\n",
    "\n",
    "print_requ(solution)\n",
    "print('break crit.:', break_crit)\n",
    "print('improvement:', old_costs - new_costs)"
   ]
  },
  {
   "cell_type": "markdown",
   "metadata": {},
   "source": [
    "#### simple_greedy ( routes, fixcosts=2000, seconds = 300, max_fct_calls = 5000 ):\n",
    "Solution approach to compare to LNS solution\n",
    "Delete one request,that reduces the cost function the most, when inserted at the best possible place.\n",
    "Relocates at most max_fct_calls requests and stops after at most 'seconds' seconds."
   ]
  },
  {
   "cell_type": "code",
   "execution_count": 4,
   "metadata": {},
   "outputs": [
    {
     "name": "stdout",
     "output_type": "stream",
     "text": [
      "\u001b[1m \n",
      " Requests only: \u001b[0m\n",
      "[(0, 1, 0)]\n",
      "[(4, 5, 2)]\n",
      "[(2, 3, 1), (6, 7, 3)]\n",
      "[(8, 9, 4)]\n",
      "[(10, 11, 5), (12, 13, 6)]\n",
      "[(14, 15, 7)]\n",
      "[(16, 17, 8)]\n",
      "[(18, 19, 9)]\n",
      "1203\n"
     ]
    }
   ],
   "source": [
    "(sol, function_calls, total_iter_count, total_savings, cost_diff, \n",
    "         changes, infeas_after_delete) = simple_greedy(initial_routes)\n",
    "print_requ(sol)\n",
    "print(total_savings)"
   ]
  },
  {
   "cell_type": "markdown",
   "metadata": {},
   "source": [
    "#### Brute Force Approach: \n",
    "(only for n<=20)"
   ]
  },
  {
   "cell_type": "code",
   "execution_count": 3,
   "metadata": {},
   "outputs": [
    {
     "name": "stdout",
     "output_type": "stream",
     "text": [
      "improvment: 7515\n",
      "[7, 5, 6, 2]\n",
      "[1, 3]\n"
     ]
    }
   ],
   "source": [
    "combi_bool = tuple_table(initial_routes)\n",
    "zweier, dreier, vierer, funfer, sechser, siebener = combs(n, combi_bool, requests)\n",
    "(valid_zweier, valid_dreier, valid_vierer, valid_funfer,combinations_zz,combinations_zzz,\n",
    "       combinations_4z,combinations_5z,combinations_6z,combinations_7z,combinations_8z,\n",
    "       combinations_dd,combinations_ddd,combinations_dddd,combinations_5d,\n",
    "       combinations_6d,combinations_vv,combinations_vvv,combinations_vvvv,\n",
    "       zweier_cost,dreier_cost,vierer_cost,funfer_cost\n",
    "    ) = valid_combs(initial_routes,zweier, dreier, vierer, funfer, requests, fixcosts = 2000)\n",
    "\n",
    "(best_val, best_combi) = best_combination(n,2000,valid_zweier, valid_dreier, valid_vierer, valid_funfer,\\\n",
    "                                          zweier_cost,dreier_cost,vierer_cost,funfer_cost)\n",
    "print('improvment:', old_costs - best_val)\n",
    "for b in best_combi:\n",
    "    if len(b)>0:\n",
    "        print(b)    "
   ]
  },
  {
   "cell_type": "code",
   "execution_count": null,
   "metadata": {},
   "outputs": [],
   "source": []
  }
 ],
 "metadata": {
  "kernelspec": {
   "display_name": "Python 3",
   "language": "python",
   "name": "python3"
  },
  "language_info": {
   "codemirror_mode": {
    "name": "ipython",
    "version": 3
   },
   "file_extension": ".py",
   "mimetype": "text/x-python",
   "name": "python",
   "nbconvert_exporter": "python",
   "pygments_lexer": "ipython3",
   "version": "3.7.7"
  }
 },
 "nbformat": 4,
 "nbformat_minor": 4
}
