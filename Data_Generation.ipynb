{
 "cells": [
  {
   "cell_type": "code",
   "execution_count": 2,
   "metadata": {
    "code_folding": [
     0
    ]
   },
   "outputs": [],
   "source": [
    "## Import\n",
    "'''\n",
    "    additionaly required packages (besides the ones in VLNS):\n",
    "    fiona\n",
    "    global_land_mask\n",
    "    wget\n",
    "    descartes\n",
    "    scipy\n",
    "    matplotlib\n",
    "'''\n",
    "import plotly.express as px\n",
    "import matplotlib.pyplot as plt\n",
    "import pandas as pd\n",
    "import math\n",
    "from pandas import DataFrame\n",
    "import geopandas as gpd\n",
    "import shapely.geometry\n",
    "import numpy as np\n",
    "from numpy.random import default_rng\n",
    "import wget\n",
    "import shapefile\n",
    "import plotly.graph_objects as go\n",
    "from shapely.geometry import mapping, Polygon, Point, MultiPolygon\n",
    "import fiona\n",
    "from global_land_mask import globe    # 1km precision\n",
    "from geopandas import GeoSeries\n",
    "import random\n",
    "from shapely.ops import unary_union\n",
    "rng = default_rng()\n",
    "from scipy.stats import gamma\n",
    "from operator import add\n",
    "from descartes import PolygonPatch\n",
    "\n",
    "central_europe = gpd.GeoDataFrame.from_file(\"intersection.shp\")\n",
    "i = np.argmax(central_europe.geometry.area)\n",
    "europe_polygon = central_europe.geometry[i][0]\n",
    "europe = europe_polygon\n",
    "#central_europe.plot() # for visualization"
   ]
  },
  {
   "cell_type": "code",
   "execution_count": 3,
   "metadata": {
    "code_folding": [
     0
    ]
   },
   "outputs": [],
   "source": [
    "def calc_dist(lat_start, lat_end, lon_start, lon_end):\n",
    "    # Input: latitude & longitude of two points (example below)\n",
    "    # Output: (air-line distance in km and) estimated time difference in minutes\n",
    "    ''' \n",
    "    CALCULATION OF DISTANCE IN MINUTES (ROUNDED) OF TWO COORDINATES\n",
    "    with fixed speed and bee-line distance\n",
    "    '''\n",
    "    speed = 75 # estimated avg speed in km/h\n",
    "    R = 6373.0\n",
    "    lat2=math.radians(lat_end)\n",
    "    lat1=math.radians(lat_start)\n",
    "    lon2=math.radians(lon_end)\n",
    "    lon1=math.radians(lon_start)\n",
    "    dlon = lon2 - lon1 \n",
    "    dlat = lat2 - lat1\n",
    "    a = math.sin(dlat / 2)**2 + math.cos(lat1) * math.cos(lat2) * math.sin(dlon / 2)**2\n",
    "    c = 2 * math.atan2(math.sqrt(a), math.sqrt(1 - a))\n",
    "    distance = R * c\n",
    "    return  np.ceil(distance/speed*60)"
   ]
  },
  {
   "cell_type": "code",
   "execution_count": 4,
   "metadata": {
    "code_folding": [
     0
    ],
    "scrolled": true
   },
   "outputs": [],
   "source": [
    "def poly_random(number, polygon_name, dist='uniform'):\n",
    "    points = []\n",
    "    minx, miny, maxx, maxy = polygon_name.bounds\n",
    "    print(minx, miny, maxx, maxy)\n",
    "    while len(points) < number:\n",
    "        if dist == 'uniform':\n",
    "            pnt = Point(np.random.uniform(minx, maxx), np.random.uniform(miny, maxy))\n",
    "        elif dist == 'normal':\n",
    "            pnt = Point(np.random.normal(9,5), np.random.normal(51.5,5))\n",
    "        else: \n",
    "            print('Error: Distribution not supported')\n",
    "            return()\n",
    "        if polygon_name.contains(pnt):\n",
    "            points.append(pnt)\n",
    "    return points"
   ]
  },
  {
   "cell_type": "code",
   "execution_count": 5,
   "metadata": {
    "code_folding": [
     0
    ]
   },
   "outputs": [],
   "source": [
    "def find_partner2(lon, lat, dist):   # dist in min\n",
    "    rng = default_rng()\n",
    "    dist_km = dist/60 * 75\n",
    "    stopping = 0\n",
    "    it = 0\n",
    "    \n",
    "    while(it < 20):\n",
    "        degree = rng.integers(0,359)     # 90° for north, 0° for east\n",
    "        x = np.cos(degree*np.pi/180)     # factors for direction\n",
    "        y = np.sin(degree*np.pi/180)\n",
    "\n",
    "        new_lat = lat + y*dist_km/111\n",
    "        new_lon = lon + x*dist_km/84\n",
    "        new_dist = calc_dist(lat, new_lat, lon, new_lon)\n",
    "        diff = dist - new_dist           # neg if we went too far\n",
    "        old_lat = new_lat\n",
    "        old_lon = new_lon\n",
    "        it += 1\n",
    "        while(abs(diff) > 15)and(europe.contains(Point(new_lon, new_lat))):\n",
    "            new_lat = old_lat + y*diff/4000*dist_km/111\n",
    "            new_lon = old_lon + x*diff/4000*dist_km/111\n",
    "            new_dist = calc_dist(lat, new_lat, lon, new_lon)\n",
    "            diff = dist - new_dist\n",
    "            old_lat = new_lat\n",
    "            old_lon = new_lon\n",
    "        if((abs(diff) <= 15)and(europe.contains(Point(new_lon, new_lat)))):\n",
    "            return(new_lon, new_lat, new_dist)\n",
    "    print('Error, no partner found')\n",
    "    return(0, 0, 0)"
   ]
  },
  {
   "cell_type": "code",
   "execution_count": 6,
   "metadata": {
    "code_folding": [
     0
    ]
   },
   "outputs": [],
   "source": [
    "def round_mod(val, floor, mod=15):\n",
    "    if floor==1:\n",
    "        return np.floor(val / mod)  *  mod\n",
    "    else: return np.ceil(val / mod)  *  mod"
   ]
  },
  {
   "cell_type": "markdown",
   "metadata": {},
   "source": [
    "## TimeWindows"
   ]
  },
  {
   "cell_type": "code",
   "execution_count": 7,
   "metadata": {
    "code_folding": [
     0
    ]
   },
   "outputs": [],
   "source": [
    "def time_windows(N):\n",
    "    dist = np.array([0.00172771, 0.07657489, 0.24306138, 0.41039656, 0.5364587,  0.61488255,\n",
    "                     0.66019702, 0.68662794, 0.71351351, 0.77315484, 0.87388735, 0.96160647, 1.        ])\n",
    "    rng = default_rng()\n",
    "    intervals = (rng.poisson(7.7,N)-1)*60                           # intervals in minutes\n",
    "    intervals[intervals<=0] = rng.integers(1,43)*60                 # noise\n",
    "    durations = np.array([rng.integers(i-60,i) for i in intervals]) # random minutes in [interval interval-1h] \n",
    "    durations[durations<30] = 30                                    # no less than 30min\n",
    "    regular_begin = 6*60                                            # 6 A.M.\n",
    "    regular_end = 4*60                                              # 4 hours before midnight = 8 P.M.\n",
    "    starts = []\n",
    "    ends = []\n",
    "    \n",
    "    for duration in durations:\n",
    "        if duration < 14*60:\n",
    "            if duration <= 4*60:\n",
    "                day = rng.integers(0,5)*24*60\n",
    "                r = rng.uniform(0,1)\n",
    "                t_interval = len(dist[dist<r])*60+60*6     # dist contains the probabilities for the ..\n",
    "                start = rng.integers(t_interval, t_interval+60)+day # intervals 0 to 13 for hours 6 to 20\n",
    "                starts.append(start) \n",
    "                ends.append(start + duration)\n",
    "            else:  \n",
    "                day = rng.integers(0,5)*24*60\n",
    "                start = rng.integers(day+regular_begin, day+24*60-duration-regular_end)\n",
    "                starts.append(start) \n",
    "                ends.append(start + duration)\n",
    "        else: \n",
    "            start = rng.integers(0,8640-duration)         # completely random over the week\n",
    "            starts.append(start) \n",
    "            ends.append(start + duration)   \n",
    "            \n",
    "    return(starts, ends)"
   ]
  },
  {
   "cell_type": "code",
   "execution_count": 8,
   "metadata": {
    "code_folding": [
     0
    ]
   },
   "outputs": [],
   "source": [
    "def P_and_D_windows(starts, ends):\n",
    "    # starts and ends from delivery windows \n",
    "    # Probabilities for P/D Window smaller than 1h, between 1 & 2h and so on:\n",
    "    pick_probs = np.array([0.397979798,0.309090909,0.084848485,0.008080808,0.02020202,\n",
    "                           0.01010101,0.018181818,0.042424242,0.046464646,0.016161616,\n",
    "                           0.016161616,0.002020202,0.006060606,0.004040404,0.018181818])\n",
    "    del_probs = np.array([0.39061257, 0.28321400, 0.01471758, 0.02665076, 0.04256165, \n",
    "                      0.05449483, 0.06642800, 0.06841687, 0.04057279, 0.01073986, 0.00159109])\n",
    "    pick_cumprob = np.cumsum(pick_probs)\n",
    "    del_cumprob = np.cumsum(del_probs)\n",
    "    # time intervals and actual  according to our dist:\n",
    "    pick_interval = []\n",
    "    del_interval = [] \n",
    "    try:\n",
    "        N = len(starts)\n",
    "    except:\n",
    "        N = 1\n",
    "    \n",
    "    for i in range(N):\n",
    "        r = rng.uniform()\n",
    "        pick_interval.append(len(pick_cumprob)-len(pick_cumprob[r<=pick_cumprob]))\n",
    "        r = rng.uniform()\n",
    "        del_interval.append(len(del_cumprob)-len(del_cumprob[r<=del_cumprob]))\n",
    "        \n",
    "    # length in time interval: starting at 30min, 15 min grid\n",
    "    pick_len = []\n",
    "    del_len = []  \n",
    "    for iv in pick_interval:\n",
    "        r = rng.integers(0,4)\n",
    "        v = rng.integers(2,4)\n",
    "        if iv==0:\n",
    "            pick_len.append(v*15)\n",
    "        else:\n",
    "            pick_len.append(iv*60 + r*15)\n",
    "    for deli in del_interval:\n",
    "        r = rng.integers(0,4)\n",
    "        v = rng.integers(2,4)\n",
    "        if deli==0:\n",
    "            del_len.append(v*15)\n",
    "        else:\n",
    "            del_len.append(deli*60 + r*15)\n",
    "            \n",
    "    # pauses & buffer for delivery time window:\n",
    "    distances = np.array(ends)-np.array(starts)\n",
    "    k_rest = np.floor(distances/540)\n",
    "    k_break = np.floor(distances/270) - k_rest\n",
    "    min_driving_pauses = 660*k_rest +45*k_break\n",
    "    # buffer for service 90 min (and randomness)\n",
    "    buffer = 90 #rng.integers(6,12)*15\n",
    "    \n",
    "    # pick start = time interval start\n",
    "    pick_start = starts   \n",
    "    pick_end = np.array(starts) + np.array(pick_len)\n",
    "    # no window overlapping for comparibility to other Master Thesis\n",
    "    delivery_start = pick_end + distances + np.array(min_driving_pauses) + buffer \n",
    "    delivery_end = np.array(delivery_start) + np.array(del_len)\n",
    "    \n",
    "    return(pick_start, pick_end, delivery_start, delivery_end)"
   ]
  },
  {
   "cell_type": "markdown",
   "metadata": {},
   "source": [
    "## Finished Data Generation"
   ]
  },
  {
   "cell_type": "code",
   "execution_count": 12,
   "metadata": {
    "code_folding": [
     0
    ],
    "scrolled": true
   },
   "outputs": [],
   "source": [
    "def data_generation(number_of_requests, Sheetname, printing_i = 10000):\n",
    "    \n",
    "    N = number_of_requests\n",
    "    buffer = int(N/50+5)\n",
    "    rng = default_rng()\n",
    "    s,e = time_windows(N+buffer)\n",
    "    start = np.array(s)\n",
    "    end = np.array(e)\n",
    "    planned_durations = end - start\n",
    "    \n",
    "    starts = []\n",
    "    ends = []\n",
    "    end_lats =[]\n",
    "    planned_dist = []\n",
    "    end_lons = []\n",
    "    start_lats=[]\n",
    "    start_lons=[]\n",
    "    points_N = poly_random(N+buffer, europe,'normal')\n",
    "    real_distance = []\n",
    "    \n",
    "    i=0\n",
    "    k=0\n",
    "    for p in points_N:\n",
    "        lon, lat = p.coords[0]\n",
    "        dist = planned_durations[i]\n",
    "        lon1, lat1, diff = find_partner2(lon, lat, dist)\n",
    "        if lon1!=0:\n",
    "            planned_dist.append(dist)\n",
    "            end_lons.append(lon1)\n",
    "            end_lats.append(lat1)\n",
    "            start_lats.append(lat)\n",
    "            start_lons.append(lon)\n",
    "            real_distance.append(diff)\n",
    "            starts.append(start[i])\n",
    "            ends.append(end[i])\n",
    "            k+=1\n",
    "        if k == N:\n",
    "            break\n",
    "        i+=1\n",
    "        if i%printing_i==0:\n",
    "            print('iter: ',i)\n",
    "    \n",
    "    up_or_down = rng.integers(0,2,k)   #rounds randomly start or end down/up\n",
    "    differences = np.array(real_distance) - np.array(planned_dist)\n",
    "    mods = differences/2        \n",
    "    diff1 = up_or_down *  np.ceil(mods) +(1-up_or_down)* np.floor(mods)\n",
    "    diff2 = up_or_down * np.floor(mods) +(1-up_or_down)* np.ceil(mods)\n",
    "    s_new = np.array(starts) - diff1\n",
    "    e_new = np.array(ends) + diff2\n",
    "    \n",
    "    # catch s<0 and e>'6 days' (unmöglich beides):\n",
    "    e_new[s_new<0]    -= s_new[s_new<0]\n",
    "    s_new[s_new<0]     = 0\n",
    "    s_new[e_new>8640]-= e_new[e_new>8640]\n",
    "    e_new[e_new>8640] = 8640\n",
    "    \n",
    "    #print(starts,ends,'\\n',s_new,e_new)\n",
    "    pick_start, pick_end, delivery_start, delivery_end = P_and_D_windows(s_new, e_new)\n",
    "    \n",
    "    print('valid points: ',k)\n",
    "    Data = DataFrame({'lat1': start_lats, 'lon1': start_lons,'lat2': end_lats, 'lon2': end_lons, 'pick_start': pick_start, \n",
    "                      'pick_end': pick_end, 'delivery_start': delivery_start, 'delivery_end': delivery_end})\n",
    "    \n",
    "    with pd.ExcelWriter(Sheetname, engine='openpyxl', mode='a') as writer: #mode a = neues Blatt !!!\n",
    "         Data.to_excel(writer, sheet_name=\"Data_N_\"+str(N), index=False)\n",
    "    return()"
   ]
  },
  {
   "cell_type": "code",
   "execution_count": 17,
   "metadata": {
    "code_folding": [],
    "collapsed": true
   },
   "outputs": [
    {
     "name": "stdout",
     "output_type": "stream",
     "text": [
      "-7.4 39.0 20.0 55.0\n",
      "valid points:  100\n",
      "-7.4 39.0 20.0 55.0\n",
      "Error, no partner found\n",
      "Error, no partner found\n",
      "iter:  100\n",
      "valid points:  100\n",
      "-7.4 39.0 20.0 55.0\n",
      "valid points:  100\n",
      "-7.4 39.0 20.0 55.0\n",
      "valid points:  100\n",
      "-7.4 39.0 20.0 55.0\n",
      "valid points:  100\n",
      "-7.4 39.0 20.0 55.0\n",
      "Error, no partner found\n",
      "Error, no partner found\n",
      "iter:  100\n",
      "valid points:  100\n",
      "-7.4 39.0 20.0 55.0\n",
      "valid points:  100\n",
      "-7.4 39.0 20.0 55.0\n",
      "valid points:  100\n",
      "-7.4 39.0 20.0 55.0\n",
      "valid points:  100\n",
      "-7.4 39.0 20.0 55.0\n",
      "valid points:  100\n",
      "-7.4 39.0 20.0 55.0\n",
      "valid points:  100\n",
      "-7.4 39.0 20.0 55.0\n",
      "valid points:  100\n",
      "-7.4 39.0 20.0 55.0\n",
      "valid points:  100\n",
      "-7.4 39.0 20.0 55.0\n",
      "valid points:  100\n",
      "-7.4 39.0 20.0 55.0\n",
      "valid points:  100\n",
      "-7.4 39.0 20.0 55.0\n",
      "valid points:  100\n",
      "-7.4 39.0 20.0 55.0\n",
      "valid points:  100\n",
      "-7.4 39.0 20.0 55.0\n",
      "valid points:  100\n",
      "-7.4 39.0 20.0 55.0\n",
      "valid points:  100\n",
      "-7.4 39.0 20.0 55.0\n",
      "Error, no partner found\n",
      "iter:  100\n",
      "valid points:  100\n",
      "-7.4 39.0 20.0 55.0\n",
      "valid points:  100\n"
     ]
    }
   ],
   "source": [
    "## Generating k instances with n requests \n",
    "# and printing an update every p steps:\n",
    "k = 20\n",
    "n = 100\n",
    "p = 50\n",
    "for i in range(k):\n",
    "    data_generation(n, 'Test.xlsx', p)"
   ]
  }
 ],
 "metadata": {
  "kernelspec": {
   "display_name": "Python 3",
   "language": "python",
   "name": "python3"
  },
  "language_info": {
   "codemirror_mode": {
    "name": "ipython",
    "version": 3
   },
   "file_extension": ".py",
   "mimetype": "text/x-python",
   "name": "python",
   "nbconvert_exporter": "python",
   "pygments_lexer": "ipython3",
   "version": "3.7.7"
  }
 },
 "nbformat": 4,
 "nbformat_minor": 4
}
